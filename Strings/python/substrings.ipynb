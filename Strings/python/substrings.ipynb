{
 "cells": [
  {
   "cell_type": "markdown",
   "id": "07038a41",
   "metadata": {},
   "source": [
    "Number of substrings of one string present in other\n",
    "\n",
    "Suppose we are given a string sl, we need to the find total number of substring(including multiple\n",
    "\n",
    "occurrences of the same substring) of sl which are present in string s2.\n",
    "\n",
    "Examples:\n",
    "\n",
    "sl = aab\n",
    "\n",
    "Input\n",
    "\n",
    "s2 = aaaab\n",
    "\n",
    "Output : 6\n",
    "\n",
    "Substrings of sl are [\"a\", \"a\", \"b\",\"aa\"\"ab\", \"aab\"]. \n",
    "\n",
    "These all are present in s2.\n",
    "Hence, answer is 6."
   ]
  },
  {
   "cell_type": "code",
   "execution_count": 4,
   "id": "d2a21b2c",
   "metadata": {},
   "outputs": [
    {
     "data": {
      "text/plain": [
       "6"
      ]
     },
     "execution_count": 4,
     "metadata": {},
     "output_type": "execute_result"
    }
   ],
   "source": [
    "def s1SubstringOfs2(str1,str2):\n",
    "    count = 0\n",
    "    for i in range(0,len(str1)):\n",
    "        for j in range(i,len(str1)) :\n",
    "            sub = str1[i:j]\n",
    "            if sub in str2 :\n",
    "                count +=1\n",
    "    return count\n",
    "\n",
    "s1SubstringOfs2(\"aab\",\"aaaab\")\n"
   ]
  },
  {
   "cell_type": "markdown",
   "id": "3657510f",
   "metadata": {},
   "source": [
    "print all substring of a number without any conversion"
   ]
  },
  {
   "cell_type": "code",
   "execution_count": 8,
   "id": "b78ead3d",
   "metadata": {},
   "outputs": [
    {
     "name": "stdout",
     "output_type": "stream",
     "text": [
      "5\n"
     ]
    }
   ],
   "source": [
    "#to calculate total number of digits\n",
    "\n",
    "import math\n",
    "n = 999991.45\n",
    "\n",
    "print(int(math.log10(n)))"
   ]
  },
  {
   "cell_type": "code",
   "execution_count": 9,
   "id": "07404fbe",
   "metadata": {},
   "outputs": [
    {
     "name": "stdout",
     "output_type": "stream",
     "text": [
      "1\n",
      "12\n",
      "123\n",
      "1234\n",
      "2\n",
      "23\n",
      "234\n",
      "3\n",
      "34\n",
      "4\n"
     ]
    }
   ],
   "source": [
    "def substringOfNumber(num):\n",
    "    digits = []\n",
    "    #extarct digits\n",
    "    \n",
    "    temp = num\n",
    "    \n",
    "    while temp >0:\n",
    "        digits.append(temp%10)\n",
    "        temp//=10\n",
    "    \n",
    "    digits.reverse()\n",
    "    \n",
    "    n =len(digits)\n",
    "    \n",
    "    for i in range(n):\n",
    "        current = 0\n",
    "        for j in range(i,n):\n",
    "            current = current*10 + digits[j]\n",
    "            print(current)\n",
    "\n",
    "substringOfNumber(1234)"
   ]
  },
  {
   "cell_type": "markdown",
   "id": "cf01b8a0",
   "metadata": {},
   "source": [
    "find the count of palindromic substrngs of a string in its sorted form"
   ]
  },
  {
   "cell_type": "code",
   "execution_count": 4,
   "id": "ebc32fcf",
   "metadata": {},
   "outputs": [
    {
     "name": "stdout",
     "output_type": "stream",
     "text": [
      "['a', 'b']\n",
      "ab\n"
     ]
    }
   ],
   "source": [
    "# actually when in a sorted string the umber of palindromic ubstrings in that group is n*(n+1)/2\n",
    "# bb -> b,bb,b\n",
    "\n",
    "s = \"ba\"\n",
    "print(sorted(s))\n",
    "s= \"\".join(sorted(s))\n",
    "print(s)"
   ]
  },
  {
   "cell_type": "code",
   "execution_count": 15,
   "id": "0f7c8377",
   "metadata": {},
   "outputs": [
    {
     "name": "stdout",
     "output_type": "stream",
     "text": [
      "freq of a is 1\n",
      "freq of b is 2\n",
      "freq of c is 1\n",
      "freq of d is 1\n",
      "6.0\n"
     ]
    }
   ],
   "source": [
    "def count_substrings_ofaStringinsortedform(s : str):\n",
    "    sorted_chars = sorted(s)\n",
    "    \n",
    "    s = \"\".join(sorted_chars)\n",
    "    count = 0\n",
    "    charlist = []\n",
    "    i = 0\n",
    "    while i< len(s):\n",
    "        \n",
    "        j =i\n",
    "        char_freq = 0\n",
    "        \n",
    "        while j < len(s) and s[j] == s[i] :\n",
    "                j = j+1\n",
    "        \n",
    "        char_freq = j-i\n",
    "        print(f\"freq of {s[i]} is {char_freq}\")   \n",
    "        i = j\n",
    "        count += char_freq*(char_freq + 1)/2\n",
    "\n",
    "    print(count)\n",
    "count_substrings_ofaStringinsortedform(\"abbcd\")   \n",
    "    "
   ]
  },
  {
   "cell_type": "markdown",
   "id": "3ff6f6df",
   "metadata": {},
   "source": [
    "as we are calulating frequency we can use hashmap to implement it "
   ]
  },
  {
   "cell_type": "code",
   "execution_count": 26,
   "id": "f92234b7",
   "metadata": {},
   "outputs": [
    {
     "name": "stdout",
     "output_type": "stream",
     "text": [
      "b\n",
      "b\n"
     ]
    }
   ],
   "source": [
    "freqs = { 'a' : \"b\"}\n",
    "print(freqs.get('a'))\n",
    "print(freqs['a'])\n",
    "\n"
   ]
  },
  {
   "cell_type": "code",
   "execution_count": 28,
   "id": "48a8d45c",
   "metadata": {},
   "outputs": [
    {
     "name": "stdout",
     "output_type": "stream",
     "text": [
      "freq of a is 1\n",
      "freq of b is 2\n",
      "freq of c is 1\n",
      "freq of d is 1\n",
      "Total palindormic strings: 6\n"
     ]
    }
   ],
   "source": [
    "def hashmp_optimization(s : str):\n",
    "    freq = {}\n",
    "    \n",
    "    for ch in s:\n",
    "        freq[ch] = freq.get(ch,0)+1\n",
    "    \n",
    "    count = 0\n",
    "    \n",
    "    for ch , k in freq.items():\n",
    "        print(f\"freq of {ch} is {k}\")\n",
    "        count += k*(k+1)//2\n",
    "    \n",
    "    print(f\"Total palindormic strings: {count}\")\n",
    "hashmp_optimization(\"abbcd\")"
   ]
  },
  {
   "cell_type": "markdown",
   "id": "c7c12558",
   "metadata": {},
   "source": [
    "Check if a string contains a palindromic sub-string of even length"
   ]
  },
  {
   "cell_type": "code",
   "execution_count": 33,
   "id": "02715781",
   "metadata": {},
   "outputs": [
    {
     "data": {
      "text/plain": [
       "False"
      ]
     },
     "execution_count": 33,
     "metadata": {},
     "output_type": "execute_result"
    }
   ],
   "source": [
    "def isPalindrome(s :str):\n",
    "    i = 0\n",
    "    j = len(s) -1\n",
    "    \n",
    "    while(i<=j):\n",
    "        if s[i] != s[j]:\n",
    "            return False\n",
    "        i = i+1\n",
    "        j =j-1\n",
    "    return True\n",
    "isPalindrome(\"aff\")"
   ]
  },
  {
   "cell_type": "code",
   "execution_count": 41,
   "id": "dd605a4d",
   "metadata": {},
   "outputs": [
    {
     "name": "stdout",
     "output_type": "stream",
     "text": [
      "aa\n"
     ]
    },
    {
     "data": {
      "text/plain": [
       "True"
      ]
     },
     "execution_count": 41,
     "metadata": {},
     "output_type": "execute_result"
    }
   ],
   "source": [
    "#Function to check if there exists at least one even-length palindromic substring\n",
    "def hasEvenLengthPalindrome(s):\n",
    "    n = len(s)\n",
    "    \n",
    "    for i in range(0,n):\n",
    "        for j in range(i,n):\n",
    "            if isPalindrome(s[i:j+1]) and (j+1-i)%2 ==0:\n",
    "                print(s[i:j+1])\n",
    "                return True\n",
    "    return False\n",
    "\n",
    "hasEvenLengthPalindrome(\"asaaa\")"
   ]
  },
  {
   "cell_type": "markdown",
   "id": "5b6fb0ec",
   "metadata": {},
   "source": [
    "Count number of substrings with numeric value greater than X\n",
    "Input: S = \"471\", X = 47\n",
    "\n",
    "Output: 2\n",
    "\n",
    "Only the sub-strings \"471\" and \"71\" \n",
    "\n",
    "satisfy the given conditions."
   ]
  },
  {
   "cell_type": "code",
   "execution_count": 42,
   "id": "8e76f840",
   "metadata": {},
   "outputs": [
    {
     "name": "stdout",
     "output_type": "stream",
     "text": [
      "<class 'int'>\n",
      "<class 'str'>\n"
     ]
    }
   ],
   "source": [
    "s = \"471\"\n",
    "num = int(s)\n",
    "print(type(num))\n",
    "string = str(num)\n",
    "print(type(string))\n"
   ]
  },
  {
   "cell_type": "code",
   "execution_count": null,
   "id": "71b3b2f8",
   "metadata": {},
   "outputs": [
    {
     "name": "stdout",
     "output_type": "stream",
     "text": [
      "222\n",
      "2222\n",
      "222\n",
      "Total substrings greater than x is 3\n"
     ]
    }
   ],
   "source": [
    "def substringswithnumericvaluegreaterthanX(s : str, x : int):\n",
    "    n = len(s)\n",
    "    count  = 0\n",
    "    for i in range(0,n):\n",
    "        for j in range(i,n):\n",
    "            if int(s[i:j+1]) > x:\n",
    "                print(s[i:j+1])\n",
    "                count +=1\n",
    "    \n",
    "    print(f\"Total substrings greater than x is {count}\")\n",
    "substringswithnumericvaluegreaterthanX(\"2222\",97)"
   ]
  },
  {
   "cell_type": "code",
   "execution_count": 48,
   "id": "085f9548",
   "metadata": {},
   "outputs": [
    {
     "name": "stdout",
     "output_type": "stream",
     "text": [
      "222\n",
      "2222\n",
      "222\n",
      "Total substrings greater than x is 3\n"
     ]
    }
   ],
   "source": [
    "#optimization is to remove string slicing which takes o(k) times\n",
    "def substringswithnumericvaluegreaterthanX(s : str, x : int):\n",
    "    n = len(s)\n",
    "    count  = 0\n",
    "    for i in range(0,n):\n",
    "        current_num = 0\n",
    "        for j in range(i,n):\n",
    "            current_num  = current_num*10 + int(s[j])\n",
    "            if current_num > x:\n",
    "                print(s[i:j+1])\n",
    "                count +=1\n",
    "    \n",
    "    print(f\"Total substrings greater than x is {count}\")\n",
    "substringswithnumericvaluegreaterthanX(\"2222\",97)"
   ]
  },
  {
   "cell_type": "code",
   "execution_count": null,
   "id": "6f301253",
   "metadata": {},
   "outputs": [],
   "source": []
  },
  {
   "cell_type": "code",
   "execution_count": null,
   "id": "07f43d14",
   "metadata": {},
   "outputs": [],
   "source": []
  }
 ],
 "metadata": {
  "kernelspec": {
   "display_name": "Python 3",
   "language": "python",
   "name": "python3"
  },
  "language_info": {
   "codemirror_mode": {
    "name": "ipython",
    "version": 3
   },
   "file_extension": ".py",
   "mimetype": "text/x-python",
   "name": "python",
   "nbconvert_exporter": "python",
   "pygments_lexer": "ipython3",
   "version": "3.10.1"
  }
 },
 "nbformat": 4,
 "nbformat_minor": 5
}
