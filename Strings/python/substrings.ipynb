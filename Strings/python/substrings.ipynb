{
 "cells": [
  {
   "cell_type": "markdown",
   "id": "07038a41",
   "metadata": {},
   "source": [
    "Number of substrings of one string present in other\n",
    "\n",
    "Suppose we are given a string sl, we need to the find total number of substring(including multiple\n",
    "\n",
    "occurrences of the same substring) of sl which are present in string s2.\n",
    "\n",
    "Examples:\n",
    "\n",
    "sl = aab\n",
    "\n",
    "Input\n",
    "\n",
    "s2 = aaaab\n",
    "\n",
    "Output : 6\n",
    "\n",
    "Substrings of sl are [\"a\", \"a\", \"b\",\"aa\"\"ab\", \"aab\"]. \n",
    "\n",
    "These all are present in s2.\n",
    "Hence, answer is 6."
   ]
  },
  {
   "cell_type": "code",
   "execution_count": 4,
   "id": "d2a21b2c",
   "metadata": {},
   "outputs": [
    {
     "data": {
      "text/plain": [
       "6"
      ]
     },
     "execution_count": 4,
     "metadata": {},
     "output_type": "execute_result"
    }
   ],
   "source": [
    "def s1SubstringOfs2(str1,str2):\n",
    "    count = 0\n",
    "    for i in range(0,len(str1)):\n",
    "        for j in range(i,len(str1)) :\n",
    "            sub = str1[i:j]\n",
    "            if sub in str2 :\n",
    "                count +=1\n",
    "    return count\n",
    "\n",
    "s1SubstringOfs2(\"aab\",\"aaaab\")\n"
   ]
  },
  {
   "cell_type": "markdown",
   "id": "adc314e7",
   "metadata": {},
   "source": []
  }
 ],
 "metadata": {
  "kernelspec": {
   "display_name": "Python 3",
   "language": "python",
   "name": "python3"
  },
  "language_info": {
   "codemirror_mode": {
    "name": "ipython",
    "version": 3
   },
   "file_extension": ".py",
   "mimetype": "text/x-python",
   "name": "python",
   "nbconvert_exporter": "python",
   "pygments_lexer": "ipython3",
   "version": "3.10.1"
  }
 },
 "nbformat": 4,
 "nbformat_minor": 5
}
