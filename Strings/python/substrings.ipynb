{
 "cells": [
  {
   "cell_type": "markdown",
   "id": "07038a41",
   "metadata": {},
   "source": [
    "Number of substrings of one string present in other\n",
    "\n",
    "Suppose we are given a string sl, we need to the find total number of substring(including multiple\n",
    "\n",
    "occurrences of the same substring) of sl which are present in string s2.\n",
    "\n",
    "Examples:\n",
    "\n",
    "sl = aab\n",
    "\n",
    "Input\n",
    "\n",
    "s2 = aaaab\n",
    "\n",
    "Output : 6\n",
    "\n",
    "Substrings of sl are [\"a\", \"a\", \"b\",\"aa\"\"ab\", \"aab\"]. \n",
    "\n",
    "These all are present in s2.\n",
    "Hence, answer is 6."
   ]
  },
  {
   "cell_type": "markdown",
   "id": "21ef5795",
   "metadata": {},
   "source": []
  },
  {
   "cell_type": "markdown",
   "id": "adc314e7",
   "metadata": {},
   "source": []
  }
 ],
 "metadata": {
  "kernelspec": {
   "display_name": "Python 3",
   "language": "python",
   "name": "python3"
  },
  "language_info": {
   "name": "python",
   "version": "3.10.1"
  }
 },
 "nbformat": 4,
 "nbformat_minor": 5
}
