{
 "cells": [
  {
   "cell_type": "markdown",
   "id": "3de3af23",
   "metadata": {},
   "source": [
    "sort the string according to cjaract3er frequecny"
   ]
  },
  {
   "cell_type": "code",
   "execution_count": 9,
   "id": "10dda392",
   "metadata": {},
   "outputs": [
    {
     "name": "stdout",
     "output_type": "stream",
     "text": [
      "HashMap  dict_items([('t', 1), ('r', 1), ('e', 2)])\n",
      "[('e', 2), ('t', 1), ('r', 1)]\n",
      "eetr\n"
     ]
    }
   ],
   "source": [
    "def frequency_sort(s : str):\n",
    "    hashmap={}\n",
    "    for char in s:\n",
    "        hashmap[char] = hashmap.get(char,0) +1\n",
    "    \n",
    "    print('HashMap ', hashmap.items())\n",
    "    \n",
    "    sorted_list = sorted(hashmap.items(),key = lambda x : x[1], reverse= True )\n",
    "    print(sorted_list)\n",
    "    \n",
    "    result = (\"\").join([character*frequency for character, frequency in sorted_list])\n",
    "    print(result)\n",
    "\n",
    "frequency_sort('tree')\n",
    "\n",
    "\n",
    "\n"
   ]
  },
  {
   "cell_type": "code",
   "execution_count": null,
   "id": "bc74a346",
   "metadata": {},
   "outputs": [],
   "source": []
  }
 ],
 "metadata": {
  "kernelspec": {
   "display_name": "Python 3",
   "language": "python",
   "name": "python3"
  },
  "language_info": {
   "codemirror_mode": {
    "name": "ipython",
    "version": 3
   },
   "file_extension": ".py",
   "mimetype": "text/x-python",
   "name": "python",
   "nbconvert_exporter": "python",
   "pygments_lexer": "ipython3",
   "version": "3.10.1"
  }
 },
 "nbformat": 4,
 "nbformat_minor": 5
}
