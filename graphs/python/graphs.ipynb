{
 "cells": [
  {
   "cell_type": "markdown",
   "id": "9f477b3c",
   "metadata": {},
   "source": [
    "graph represntation adjaceny list"
   ]
  },
  {
   "cell_type": "code",
   "execution_count": null,
   "id": "5d8ad8ad",
   "metadata": {},
   "outputs": [
    {
     "name": "stdout",
     "output_type": "stream",
     "text": [
      "adjacency list\n",
      "2 3\n",
      " 1: 2 3\n",
      " 2: 1 4 5\n",
      " 3: 1 4\n",
      " 4: 2 3 5\n",
      " 5: 2 4\n"
     ]
    }
   ],
   "source": [
    "# number of nodes \n",
    "n = 5\n",
    "\n",
    "edges = [\n",
    "    (1, 2),\n",
    "    (1, 3),\n",
    "    (2, 4),\n",
    "    (3, 4),\n",
    "    (2, 5),\n",
    "    (4, 5)\n",
    "]\n",
    "\n",
    "adjList = [ [] for _ in range(n+1)]\n",
    "\n",
    "for u,v in edges:\n",
    "    adjList[u].append(v)\n",
    "    adjList[v].append(u)\n",
    "    \n",
    "print(\"adjacency list\")\n",
    "\n",
    "# Explanation:\n",
    "\n",
    "# adjList[i] is a list of integers (neighbors of node i).\n",
    "# map(str, adjList[i]) converts each integer in the list to a string.\n",
    "# ' '.join(...) joins these strings with a space between each.\n",
    "for i in range(1, n+1):\n",
    "    print(f\" {i}: {' '.join(map(str,adjList[i]))}\")"
   ]
  },
  {
   "cell_type": "code",
   "execution_count": null,
   "id": "99f44baa",
   "metadata": {},
   "outputs": [],
   "source": []
  }
 ],
 "metadata": {
  "kernelspec": {
   "display_name": "Python 3",
   "language": "python",
   "name": "python3"
  },
  "language_info": {
   "codemirror_mode": {
    "name": "ipython",
    "version": 3
   },
   "file_extension": ".py",
   "mimetype": "text/x-python",
   "name": "python",
   "nbconvert_exporter": "python",
   "pygments_lexer": "ipython3",
   "version": "3.10.1"
  }
 },
 "nbformat": 4,
 "nbformat_minor": 5
}
