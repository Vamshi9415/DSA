{
 "cells": [
  {
   "cell_type": "markdown",
   "id": "47180c09",
   "metadata": {},
   "source": [
    "An Armstrong number is a number equal to the sum of its own digits each raised to the power of the number of digits.\n",
    "For example, $153$ is an Armstrong number because $1^3 + 5^3 + 3^3 = 1 + 125 + 27 = 153$."
   ]
  },
  {
   "cell_type": "code",
   "execution_count": 3,
   "id": "5bc6e65f",
   "metadata": {},
   "outputs": [
    {
     "data": {
      "text/plain": [
       "4"
      ]
     },
     "execution_count": 3,
     "metadata": {},
     "output_type": "execute_result"
    }
   ],
   "source": [
    "def length(x):\n",
    "    length = len(str(x))\n",
    "    return length\n",
    "\n",
    "length(3456)"
   ]
  },
  {
   "cell_type": "code",
   "execution_count": 4,
   "id": "ecab6b27",
   "metadata": {},
   "outputs": [
    {
     "name": "stdout",
     "output_type": "stream",
     "text": [
      "True\n"
     ]
    }
   ],
   "source": [
    "\n",
    "def isArmStrong(x):\n",
    "    n = length(x)\n",
    "    \n",
    "    total = 0\n",
    "    temp=x\n",
    "    while temp >0:\n",
    "        digit = temp%10\n",
    "        total += digit ** n\n",
    "        temp //=10\n",
    "    \n",
    "    return total == x\n",
    "\n",
    "print(isArmStrong(153))"
   ]
  },
  {
   "cell_type": "markdown",
   "id": "8e914b6b",
   "metadata": {},
   "source": [
    " Count of integers in a range which have even number of odd digits and odd number of even digits\n",
    "\n",
    " Given a range [L, R], the task is to count the numbers which have even number of odd digits and odd number of even digits. For example, \n",
    "\n",
    "8 has 1 even digit and 0 odd digit – Satisfies the condition since 1 is odd and 0 is even.\n",
    "\n",
    "545 has 1 even digit and 2 odd digits – Satisfies the condition since 1 is odd and 2 is even.\n",
    "\n",
    "4834 has 3 even digits and 1 odd digit – Does not satisfy the condition since there are odd numbers(i.e 1) of odd digits."
   ]
  },
  {
   "cell_type": "code",
   "execution_count": 6,
   "id": "73100c46",
   "metadata": {},
   "outputs": [
    {
     "name": "stdout",
     "output_type": "stream",
     "text": [
      "odd count : 1\n",
      " even_count : 3\n"
     ]
    },
    {
     "data": {
      "text/plain": [
       "False"
      ]
     },
     "execution_count": 6,
     "metadata": {},
     "output_type": "execute_result"
    }
   ],
   "source": [
    "def oddNumberOfEvenViceVersa(x):\n",
    "    odd_count = 0\n",
    "    even_count = 0\n",
    "    \n",
    "    temp = x\n",
    "    while temp>0:\n",
    "        remain = temp%10\n",
    "        \n",
    "        if remain%2 == 0:\n",
    "            even_count = even_count+1\n",
    "        else :\n",
    "            odd_count = odd_count+1\n",
    "        \n",
    "        temp = temp//10\n",
    "        \n",
    "    print(f\"odd count : {odd_count}\\n even_count : {even_count}\")\n",
    "    if odd_count%2 == 0 and even_count%2 !=0:\n",
    "        return True\n",
    "    \n",
    "    return False\n",
    "\n",
    "oddNumberOfEvenViceVersa(4834)"
   ]
  },
  {
   "cell_type": "markdown",
   "id": "f37ca5cb",
   "metadata": {},
   "source": [
    "factorial of a number\n"
   ]
  },
  {
   "cell_type": "code",
   "execution_count": null,
   "id": "3c882680",
   "metadata": {},
   "outputs": [
    {
     "data": {
      "text/plain": [
       "120"
      ]
     },
     "execution_count": 7,
     "metadata": {},
     "output_type": "execute_result"
    }
   ],
   "source": [
    "def fact_with_recursion(n):\n",
    "    if n == 0:\n",
    "        return 1\n",
    "    \n",
    "    return (n)*fact_with_recursion(n-1)\n",
    "\n",
    "fact_with_recursion(5)"
   ]
  },
  {
   "cell_type": "code",
   "execution_count": 8,
   "id": "20d4a7fc",
   "metadata": {},
   "outputs": [
    {
     "data": {
      "text/plain": [
       "120"
      ]
     },
     "execution_count": 8,
     "metadata": {},
     "output_type": "execute_result"
    }
   ],
   "source": [
    "def fact_with_iteration(n):\n",
    "    if n == 0 or n == 1:\n",
    "        return 1\n",
    "    \n",
    "    fact = 1\n",
    "    for i in range(2,n+1):\n",
    "        fact = fact*i\n",
    "    \n",
    "    return fact\n",
    "\n",
    "fact_with_iteration(5)"
   ]
  },
  {
   "cell_type": "markdown",
   "id": "08efd5ac",
   "metadata": {},
   "source": [
    "fibonaaci number\n"
   ]
  },
  {
   "cell_type": "code",
   "execution_count": 10,
   "id": "25f2c955",
   "metadata": {},
   "outputs": [
    {
     "name": "stdout",
     "output_type": "stream",
     "text": [
      "1 = 1 + 0\n",
      "2 = 1 + 1\n",
      "3 = 2 + 1\n",
      "5 = 3 + 2\n",
      "8 = 5 + 3\n",
      "13 = 8 + 5\n",
      "21 = 13 + 8\n",
      "34 = 21 + 13\n",
      "55 = 34 + 21\n"
     ]
    }
   ],
   "source": [
    "def fib(n):\n",
    "    if n <= 1:\n",
    "        return 1\n",
    "    \n",
    "    curr = 0\n",
    "    prev1 =1\n",
    "    prev2 =0\n",
    "    \n",
    "    for i in range(2,n+1):\n",
    "        curr = prev1 +prev2\n",
    "        print(f\"{curr} = {prev1} + {prev2}\")\n",
    "        prev2 =prev1\n",
    "        prev1 = curr\n",
    "        \n",
    "        \n",
    "\n",
    "fib(10)"
   ]
  },
  {
   "cell_type": "markdown",
   "id": "b2e99238",
   "metadata": {},
   "source": [
    "palindrome of  number"
   ]
  },
  {
   "cell_type": "code",
   "execution_count": 19,
   "id": "17aa3990",
   "metadata": {},
   "outputs": [
    {
     "data": {
      "text/plain": [
       "False"
      ]
     },
     "execution_count": 19,
     "metadata": {},
     "output_type": "execute_result"
    }
   ],
   "source": [
    "def isPalindrome( x):\n",
    "        INT_MIN = -2**31\n",
    "        INT_MAX = 2**31 -1\n",
    "\n",
    "        original = x\n",
    "        palin = 0\n",
    "        while original>0:\n",
    "            remain = original%10\n",
    "            palin = palin*10 + remain\n",
    "            original = original//10\n",
    "        \n",
    "        if INT_MIN <= palin <= INT_MAX:\n",
    "            return palin == x\n",
    "        \n",
    "        return False\n",
    "\n",
    "isPalindrome(100)"
   ]
  },
  {
   "cell_type": "markdown",
   "id": "2cbe908c",
   "metadata": {},
   "source": [
    "s is your string (for example, \"hello\").\n",
    "\n",
    "s[start:stop:step] is the general slice syntax.\n",
    "\n",
    "[::-1] means:\n",
    "\n",
    "start: not specified (defaults to start of string)\n",
    "\n",
    "stop: not specified (defaults to end of string)\n",
    "\n",
    "step: -1 (means move from end to start, i.e., reverse)\n"
   ]
  },
  {
   "cell_type": "code",
   "execution_count": 18,
   "id": "5e593a5a",
   "metadata": {},
   "outputs": [
    {
     "data": {
      "text/plain": [
       "False"
      ]
     },
     "execution_count": 18,
     "metadata": {},
     "output_type": "execute_result"
    }
   ],
   "source": [
    "def is_palindrome_with_string(n):\n",
    "    n_string = str(n)\n",
    "    rev = n_string[::-1]\n",
    "    return n_string == rev\n",
    "\n",
    "is_palindrome_with_string(100)"
   ]
  },
  {
   "cell_type": "markdown",
   "id": "fffc0ce9",
   "metadata": {},
   "source": [
    "**Question:**  \n",
    "Write a function `reverse(x)` that takes a 32-bit signed integer `x` and returns its digits reversed. If reversing `x` causes the value to go outside the signed 32-bit integer range `[-2^31, 2^31 - 1]`, return 0."
   ]
  },
  {
   "cell_type": "code",
   "execution_count": null,
   "id": "0fe1a7b2",
   "metadata": {},
   "outputs": [],
   "source": [
    "def reverse(x):\n",
    "        INT_MIN = -2**31\n",
    "        INT_MAX = 2**31 - 1\n",
    "        original = abs(x)\n",
    "        sign = -1 if x < 0 else 1\n",
    "        rev = 0\n",
    "\n",
    "        while original > 0:\n",
    "            remain = original % 10\n",
    "            rev = rev * 10 + remain\n",
    "            original = original // 10\n",
    "\n",
    "        rev = sign * rev\n",
    "        if INT_MIN <= rev <= INT_MAX:\n",
    "            return rev\n",
    "        return 0"
   ]
  },
  {
   "cell_type": "markdown",
   "id": "03843f5f",
   "metadata": {},
   "source": [
    "GCD OF TWO NUMBERS\n",
    "\n",
    "HCF (Highest Common Factor) and GCD (Greatest Common Divisor) are the same thing."
   ]
  },
  {
   "cell_type": "code",
   "execution_count": 20,
   "id": "1d6a44a8",
   "metadata": {},
   "outputs": [
    {
     "name": "stdout",
     "output_type": "stream",
     "text": [
      "6\n",
      "1\n"
     ]
    }
   ],
   "source": [
    "def gcd(a,b):\n",
    "    \n",
    "    #eulcidean algorithm\n",
    "    while b!= 0:\n",
    "        a,b = b,a%b\n",
    "    \n",
    "    return a\n",
    "\n",
    "print(gcd(54, 24))  \n",
    "print(gcd(17, 5))"
   ]
  },
  {
   "cell_type": "markdown",
   "id": "e11aef64",
   "metadata": {},
   "source": [
    "LCM of two numbers"
   ]
  },
  {
   "cell_type": "code",
   "execution_count": 21,
   "id": "64034919",
   "metadata": {},
   "outputs": [
    {
     "name": "stdout",
     "output_type": "stream",
     "text": [
      "36\n",
      "35\n"
     ]
    }
   ],
   "source": [
    "def lcm(a,b):    \n",
    "    return (a*b) // gcd(a,b)\n",
    "\n",
    "print(lcm(12, 18))  \n",
    "print(lcm(7, 5)) "
   ]
  },
  {
   "cell_type": "markdown",
   "id": "48e666ea",
   "metadata": {},
   "source": [
    "print all divisors of a number\n"
   ]
  },
  {
   "cell_type": "code",
   "execution_count": 26,
   "id": "b048c549",
   "metadata": {},
   "outputs": [
    {
     "name": "stdout",
     "output_type": "stream",
     "text": [
      "[1, 2, 3, 4, 6, 9, 12, 18, 36]\n"
     ]
    }
   ],
   "source": [
    "import math\n",
    "def printDivisiors(x):\n",
    "    num = x\n",
    "    divisors = []\n",
    "    iterations = int(math.sqrt(x))\n",
    "    for i in range (1,iterations+1):\n",
    "        if(num % i == 0):\n",
    "            divisors.append(i)\n",
    "            \n",
    "            if i != (num // i):\n",
    "                divisors.append(num // i)\n",
    "\n",
    "        divisors.sort()\n",
    "    print(divisors)\n",
    "\n",
    "printDivisiors(36)\n",
    "        \n",
    "        "
   ]
  },
  {
   "cell_type": "markdown",
   "id": "45e456d3",
   "metadata": {},
   "source": [
    "is prime or not"
   ]
  },
  {
   "cell_type": "code",
   "execution_count": 28,
   "id": "123cee2b",
   "metadata": {},
   "outputs": [
    {
     "data": {
      "text/plain": [
       "False"
      ]
     },
     "execution_count": 28,
     "metadata": {},
     "output_type": "execute_result"
    }
   ],
   "source": [
    "def isPrimeNumber(x):\n",
    "     num = x\n",
    "     sqrtNum = int(math.sqrt(num))\n",
    "     count  = 0\n",
    "     for i in range(1,sqrtNum):\n",
    "         if num% i == 0:\n",
    "             count+=1\n",
    "             \n",
    "             if i != num//i:\n",
    "                 count +=1\n",
    "    \n",
    "     if count == 2:\n",
    "         return True\n",
    "     \n",
    "     return False\n",
    " \n",
    "isPrimeNumber(57)"
   ]
  },
  {
   "cell_type": "code",
   "execution_count": 29,
   "id": "686c1329",
   "metadata": {},
   "outputs": [
    {
     "name": "stdout",
     "output_type": "stream",
     "text": [
      "False\n",
      "True\n"
     ]
    }
   ],
   "source": [
    "def is_prime(x):\n",
    "    if x <=1:\n",
    "        return False\n",
    "    \n",
    "    for i in range(2, int(math.sqrt(x)) +1 ):\n",
    "        if x%i ==0:\n",
    "            return False\n",
    "    \n",
    "    return True\n",
    "\n",
    "print(isPrimeNumber(57))  \n",
    "print(isPrimeNumber(13))"
   ]
  },
  {
   "cell_type": "markdown",
   "id": "9405c5a0",
   "metadata": {},
   "source": [
    "counting frequencies of array elements\n",
    "\n",
    "Input: nums = [1, 2, 2, 1, 3]\n",
    "\n",
    "Output: [[1, 2], [2, 2], [3, 1]]"
   ]
  },
  {
   "cell_type": "code",
   "execution_count": 36,
   "id": "191e5d73",
   "metadata": {},
   "outputs": [
    {
     "name": "stdout",
     "output_type": "stream",
     "text": [
      "{1: 2, 2: 2, 3: 1}\n",
      "dict_items([(1, 2), (2, 2), (3, 1)])\n",
      "[[1, 2], [2, 2], [3, 1]]\n"
     ]
    }
   ],
   "source": [
    "nums = [1, 2, 2, 1, 3]\n",
    "\n",
    "f = {}\n",
    "for num in nums:\n",
    "    if num in f:\n",
    "        f[num]+=1\n",
    "    else:\n",
    "        f[num]=1\n",
    "\n",
    "print(f)\n",
    "\n",
    "print(f.items())\n",
    "\n",
    "results =  [ [key,value] for key,value in f.items()]\n",
    "\n",
    "print(results)"
   ]
  },
  {
   "cell_type": "code",
   "execution_count": 30,
   "id": "7d011a99",
   "metadata": {},
   "outputs": [
    {
     "name": "stdout",
     "output_type": "stream",
     "text": [
      "[[1, 2], [2, 2], [3, 1]]\n"
     ]
    }
   ],
   "source": [
    "def count_frequencies(nums):\n",
    "    freqs = {}\n",
    "    #using dictinory to store each unique element as key and frequnecy as value\n",
    "    for num in nums:\n",
    "        if num in freqs:\n",
    "            freqs[num]+=1\n",
    "        else:\n",
    "            freqs[num] = 1\n",
    "    \n",
    "    result = [[key,value] for key,value in freqs.items()]\n",
    "    return result\n",
    "\n",
    "print(count_frequencies([1, 2, 2, 1, 3]))"
   ]
  },
  {
   "cell_type": "markdown",
   "id": "a94ae625",
   "metadata": {},
   "source": [
    "A lambda function is like an inline anonymous function that takes any number of arguments but returns exactly one expression."
   ]
  },
  {
   "cell_type": "code",
   "execution_count": 2,
   "id": "4e6cf0f1",
   "metadata": {},
   "outputs": [
    {
     "name": "stdout",
     "output_type": "stream",
     "text": [
      "5\n",
      "4\n",
      "[(5, 0), (3, 1), (1, 2)]\n",
      "[1, 4, 4, 9, 16]\n"
     ]
    }
   ],
   "source": [
    "add = lambda x,y : x+y\n",
    "print(add(2,3))\n",
    "\n",
    "square = lambda x : x**2\n",
    "print(square(2))\n",
    "\n",
    "pairs = [(1, 2), (3, 1), (5, 0)]\n",
    "\n",
    "sorted_pairs = sorted(pairs, key = lambda x :x[1])\n",
    "\n",
    "print(sorted_pairs)\n",
    "\n",
    "nums = [1,2,2,3,4]\n",
    "\n",
    "squaresofnums= list(map(lambda X : X**2, nums))\n",
    "\n",
    "\n",
    "\n",
    "print(squaresofnums)"
   ]
  },
  {
   "cell_type": "markdown",
   "id": "e8498b6e",
   "metadata": {},
   "source": [
    "List comprehension in Python is a concise, one-line way to create a new list by iterating over an iterable, optionally applying a condition, and/or transforming each element."
   ]
  },
  {
   "cell_type": "code",
   "execution_count": null,
   "id": "59cb5650",
   "metadata": {},
   "outputs": [
    {
     "name": "stdout",
     "output_type": "stream",
     "text": [
      "[1, 4, 4, 9, 188356, 188356, 9]\n"
     ]
    }
   ],
   "source": [
    "nums = [1,2,2,3,434,434,3]\n",
    "\n",
    "squared_nums = [x**2 for x in nums]\n",
    "print(squared_nums)\n",
    "\n",
    "# squares = []\n",
    "# for x in nums:\n",
    "#     squares.append(x**2)"
   ]
  },
  {
   "cell_type": "code",
   "execution_count": 5,
   "id": "ddab98ed",
   "metadata": {},
   "outputs": [
    {
     "name": "stdout",
     "output_type": "stream",
     "text": [
      "[4, 4, 188356, 188356]\n"
     ]
    }
   ],
   "source": [
    "# with condition\n",
    "\n",
    "even_squares = [x**2 for x in nums if x%2 == 0]\n",
    "print(even_squares)"
   ]
  },
  {
   "cell_type": "markdown",
   "id": "e1436332",
   "metadata": {},
   "source": [
    "zip is a function that combines multiple iterables element wise"
   ]
  },
  {
   "cell_type": "code",
   "execution_count": null,
   "id": "f1d35d50",
   "metadata": {},
   "outputs": [
    {
     "data": {
      "text/plain": [
       "[(1, 'a'), (2, 'b'), (2, 'c')]"
      ]
     },
     "execution_count": 9,
     "metadata": {},
     "output_type": "execute_result"
    }
   ],
   "source": [
    "list1 = [1,2,2]\n",
    "list2 = ['a','b','c']\n",
    "\n",
    "zipped = zip(list1,list2)\n",
    "zipped\n",
    "pairs= list(zipped)"
   ]
  },
  {
   "cell_type": "markdown",
   "id": "d8e51e6a",
   "metadata": {},
   "source": [
    "unzip"
   ]
  },
  {
   "cell_type": "code",
   "execution_count": 10,
   "id": "9244a772",
   "metadata": {},
   "outputs": [
    {
     "name": "stdout",
     "output_type": "stream",
     "text": [
      "(1, 3, 5) \n",
      " (2, 1, 0)\n"
     ]
    }
   ],
   "source": [
    "numbers, letters = zip(*pairs)\n",
    "\n",
    "print(numbers, \"\\n\", letters)"
   ]
  },
  {
   "cell_type": "markdown",
   "id": "b1d567d3",
   "metadata": {},
   "source": [
    "we can iterate multiple lists simultenously"
   ]
  },
  {
   "cell_type": "code",
   "execution_count": 11,
   "id": "9fd7b773",
   "metadata": {},
   "outputs": [
    {
     "name": "stdout",
     "output_type": "stream",
     "text": [
      "ojas   12\n",
      "gamheera   13\n",
      "fan   14\n",
      "boy   15\n"
     ]
    }
   ],
   "source": [
    "names = [\"ojas\",\"gamheera\",\"fan\",\"boy\"]\n",
    "ages = [12,13,14,15]\n",
    "\n",
    "for names,ages in zip(names,ages):\n",
    "    print(names,\" \",ages)"
   ]
  },
  {
   "cell_type": "code",
   "execution_count": 12,
   "id": "94bf66f5",
   "metadata": {},
   "outputs": [
    {
     "data": {
      "text/plain": [
       "{12: 'ojas', 13: 'gamheera', 14: 'fan', 15: 'boy'}"
      ]
     },
     "execution_count": 12,
     "metadata": {},
     "output_type": "execute_result"
    }
   ],
   "source": [
    "# able to create dictionaries\n",
    "\n",
    "names = [\"ojas\",\"gamheera\",\"fan\",\"boy\"]\n",
    "ages = [12,13,14,15]\n",
    "\n",
    "dict_ = dict(zip(ages,names))\n",
    "dict_"
   ]
  },
  {
   "cell_type": "markdown",
   "id": "48290fe7",
   "metadata": {},
   "source": [
    "union of two arrays"
   ]
  },
  {
   "cell_type": "code",
   "execution_count": 3,
   "id": "71a494c2",
   "metadata": {},
   "outputs": [
    {
     "data": {
      "text/plain": [
       "{1, 2, 3, 4, 5, 6, 7, 8, 9}"
      ]
     },
     "execution_count": 3,
     "metadata": {},
     "output_type": "execute_result"
    }
   ],
   "source": [
    "# using set.union():\n",
    "\n",
    "arr1 = [1,3,4,5,6,6]\n",
    "arr2 = [9,8,7,6,5,4,3,2,1]\n",
    "\n",
    "union = set(arr1).union(arr2)\n",
    "\n",
    "union"
   ]
  },
  {
   "cell_type": "code",
   "execution_count": 5,
   "id": "abfa5b3f",
   "metadata": {},
   "outputs": [
    {
     "data": {
      "text/plain": [
       "{1, 2, 3, 4, 5, 6, 7, 8, 9}"
      ]
     },
     "execution_count": 5,
     "metadata": {},
     "output_type": "execute_result"
    }
   ],
   "source": [
    "# using | operator\n",
    "\n",
    "union2 = set(arr1) | set(arr2)\n",
    "union2"
   ]
  },
  {
   "cell_type": "code",
   "execution_count": 6,
   "id": "6b6cf11c",
   "metadata": {},
   "outputs": [
    {
     "data": {
      "text/plain": [
       "[1, 2, 3, 4, 5, 6, 7, 8, 9]"
      ]
     },
     "execution_count": 6,
     "metadata": {},
     "output_type": "execute_result"
    }
   ],
   "source": [
    "#actually set ouputs unorded collection so to get sorted we can use sorted union\n",
    "\n",
    "sorted_union = sorted(set(arr1)|set(arr2))\n",
    "sorted_union"
   ]
  },
  {
   "cell_type": "code",
   "execution_count": 9,
   "id": "c69d0380",
   "metadata": {},
   "outputs": [
    {
     "name": "stdout",
     "output_type": "stream",
     "text": [
      "[1, 2, 3, 4, 5, 6, 7, 8, 9]\n"
     ]
    }
   ],
   "source": [
    "#code is for sorted arrays\n",
    "def union(arr1,arr2):\n",
    "    len_arr1 = len(arr1)\n",
    "    len_arr2 = len(arr2)\n",
    "    i=j=0\n",
    "    unionlist =[]\n",
    "    #if not unionlist means if unionlist is empty\n",
    "    while(i<len_arr1 and j< len_arr2):\n",
    "        if(arr1[i]< arr2[j] and (not unionlist or unionlist[-1] != arr1[i])):\n",
    "            unionlist.append(arr1[i])\n",
    "            i = i+1\n",
    "        elif(arr1[i] == arr2[j] and (not unionlist or unionlist[-1] != arr1[i])):\n",
    "            unionlist.append(arr1[i])\n",
    "            i += 1\n",
    "            j +=1\n",
    "        elif(arr1[i] > arr2[j] and (not unionlist or unionlist[-1] != arr2[j])):\n",
    "            unionlist.append(arr2[j])\n",
    "\n",
    "            j +=1\n",
    "    print(unionlist)\n",
    "\n",
    "union([1,4,5,6,7,8,9],[2,3,4,5,6,7,8,9])"
   ]
  },
  {
   "cell_type": "code",
   "execution_count": null,
   "id": "a458740d",
   "metadata": {},
   "outputs": [],
   "source": []
  }
 ],
 "metadata": {
  "kernelspec": {
   "display_name": "Python 3",
   "language": "python",
   "name": "python3"
  },
  "language_info": {
   "codemirror_mode": {
    "name": "ipython",
    "version": 3
   },
   "file_extension": ".py",
   "mimetype": "text/x-python",
   "name": "python",
   "nbconvert_exporter": "python",
   "pygments_lexer": "ipython3",
   "version": "3.10.1"
  }
 },
 "nbformat": 4,
 "nbformat_minor": 5
}
