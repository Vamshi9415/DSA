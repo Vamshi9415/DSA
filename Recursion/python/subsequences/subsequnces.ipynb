{
 "cells": [
  {
   "cell_type": "markdown",
   "id": "b1d3cd5f",
   "metadata": {},
   "source": [
    "print subsequcnes whose sum is k"
   ]
  },
  {
   "cell_type": "code",
   "execution_count": 3,
   "id": "bdacb545",
   "metadata": {},
   "outputs": [
    {
     "name": "stdout",
     "output_type": "stream",
     "text": [
      "[1, 2]\n",
      "[1, 1, 1]\n",
      "[1, 1, 1]\n",
      "[1, 1, 1]\n",
      "[2, 1]\n",
      "[2, 1]\n",
      "[2, 1]\n",
      "[1, 1, 1]\n"
     ]
    }
   ],
   "source": [
    "def seqwithsumk(arr,i,sublist,sum,k):\n",
    "    if i == len(arr):\n",
    "        if sum == k:\n",
    "            print(sublist)\n",
    "        return\n",
    "    \n",
    "    sublist.append(arr[i])\n",
    "    seqwithsumk(arr,i+1,sublist, sum+arr[i], k)\n",
    "    \n",
    "    sublist.pop()\n",
    "    seqwithsumk(arr,i+1,sublist,sum,k)\n",
    "\n",
    "seqwithsumk([1,2,1,1,1],0,[],0,3)"
   ]
  },
  {
   "cell_type": "markdown",
   "id": "bf1e1a7a",
   "metadata": {},
   "source": [
    "number of sub sequnces whose sum is k"
   ]
  },
  {
   "cell_type": "code",
   "execution_count": 4,
   "id": "6aaeca35",
   "metadata": {},
   "outputs": [
    {
     "data": {
      "text/plain": [
       "8"
      ]
     },
     "execution_count": 4,
     "metadata": {},
     "output_type": "execute_result"
    }
   ],
   "source": [
    "def numseqsumwithk(arr,i,sum,k):\n",
    "    if i == len(arr):\n",
    "        if sum == k:\n",
    "            return 1\n",
    "        else:\n",
    "            return 0\n",
    "    \n",
    "    l = numseqsumwithk(arr,i+1,sum+arr[i],k)\n",
    "    \n",
    "    r = numseqsumwithk(arr,i+1,sum,k)\n",
    "    \n",
    "    return l+r\n",
    "\n",
    "numseqsumwithk([1,2,1,1,1],0,0,3)\n"
   ]
  },
  {
   "cell_type": "markdown",
   "id": "192f24b0",
   "metadata": {},
   "source": [
    "Given an array of distinct integers candidates and a target integer target , return a list ofa// unique combinations of candidates where the chosen numbers sum to\n",
    "\n",
    "target . You may return the combinations in any order.\n",
    "\n",
    "The same number may be chosen from candidates an unlimited number of times. Two combinations are unique if the frequency of at least one of the chosen numbers\n",
    "\n",
    "is different.\n",
    "\n",
    "It is guaranteed that the number of unique combinations that sum up to target is less than 150 combinations for the given input.\n",
    "\n",
    "Example 1:\n",
    "= [2,3,6,7], target = 7\n",
    "Input: candidates\n",
    "Output: [[2,2,3],[7]]\n",
    "\n",
    "Explanation :\n",
    "2 and 3 are candidates, and 2 + 2 + 3\n",
    "7 is a candidate, and 7\n",
    "These are the only two combinations.\n",
    "Note that 2 can be used multiple times."
   ]
  },
  {
   "cell_type": "code",
   "execution_count": 9,
   "id": "787b5adb",
   "metadata": {},
   "outputs": [
    {
     "name": "stdout",
     "output_type": "stream",
     "text": [
      "[[2, 2, 3], [7]]\n"
     ]
    }
   ],
   "source": [
    "def findcombination(idx, arr, target, current, ans):\n",
    "    if idx == len(arr):\n",
    "        if target == 0:\n",
    "            ans.append(current.copy())   # make a copy\n",
    "        return\n",
    "    \n",
    "    # include current element if possible\n",
    "    if arr[idx] <= target:\n",
    "        current.append(arr[idx])\n",
    "        findcombination(idx, arr, target - arr[idx], current, ans)\n",
    "        current.pop()  # backtrack\n",
    "    \n",
    "    # exclude current element\n",
    "    findcombination(idx + 1, arr, target, current, ans)\n",
    "\n",
    "\n",
    "arr = [2, 3, 7]\n",
    "target = 7\n",
    "ans = []\n",
    "findcombination(0, arr, target, [], ans)\n",
    "print(ans)\n"
   ]
  },
  {
   "cell_type": "markdown",
   "id": "880de0f2",
   "metadata": {},
   "source": [
    "print all sub strings of a string"
   ]
  },
  {
   "cell_type": "code",
   "execution_count": null,
   "id": "f645ed4c",
   "metadata": {},
   "outputs": [
    {
     "name": "stdout",
     "output_type": "stream",
     "text": [
      "abc\n",
      "bc\n",
      "c\n",
      "\n",
      "['a', 'ab', 'abc', 'b', 'bc', 'c']\n"
     ]
    }
   ],
   "source": [
    "def substrings(str,n,index,curr,res):\n",
    "    \n",
    "    if index == n:\n",
    "        print(curr)\n",
    "        return\n",
    "    \n",
    "    curr = curr + str[index]\n",
    "    \n",
    "    res.append(curr)\n",
    "    \n",
    "    substrings(str,n,index+1,curr,res)\n",
    "    \n",
    "    curr = curr[:-1]\n",
    "    \n",
    "    # fro substrings\n",
    "    if not curr :\n",
    "        substrings(str,n,index+1,curr,res)\n",
    "        \n",
    "    # for sub sequnces do this \n",
    "    # substrings(str,n,index+1,curr,res)\n",
    "\n",
    "res = []\n",
    "substrings(\"abc\",3,0,\"\",res)\n",
    "\n",
    "print(res)\n",
    "    \n",
    "    \n",
    "    \n",
    "    "
   ]
  },
  {
   "cell_type": "markdown",
   "id": "cf0d1e05",
   "metadata": {},
   "source": [
    "generate all binary strings\n",
    "\n",
    "Input: n = 3  \n",
    "\n",
    "Output: [\"000\", \"001\", \"010\", \"100\", \"101\"] \n",
    "\n",
    "Explanation: All binary strings of length 3 that do not contain consecutive 1s.\n"
   ]
  },
  {
   "cell_type": "code",
   "execution_count": 18,
   "id": "f575f7e3",
   "metadata": {},
   "outputs": [
    {
     "name": "stdout",
     "output_type": "stream",
     "text": [
      "000\n",
      "001\n",
      "010\n",
      "100\n",
      "101\n",
      "['000', '001', '010', '100', '101']\n"
     ]
    }
   ],
   "source": [
    "def binarystrings(n,result,str):\n",
    "    if len(str) == n:\n",
    "        result.append(str)\n",
    "        print(str)\n",
    "        return\n",
    "    \n",
    "    str = str + '0'\n",
    "    binarystrings(n,result,str)\n",
    "    \n",
    "    str = str[:-1]\n",
    "    \n",
    "    # Add '1' only if previous char is not '1'\n",
    "    if not str or str[-1] != '1' :\n",
    "        binarystrings(n,result,str + '1')\n",
    "\n",
    "result = []\n",
    "binarystrings(3,result,\"\")\n",
    "print(result)"
   ]
  },
  {
   "cell_type": "code",
   "execution_count": null,
   "id": "06f65e2b",
   "metadata": {},
   "outputs": [],
   "source": []
  }
 ],
 "metadata": {
  "kernelspec": {
   "display_name": "Python 3",
   "language": "python",
   "name": "python3"
  },
  "language_info": {
   "codemirror_mode": {
    "name": "ipython",
    "version": 3
   },
   "file_extension": ".py",
   "mimetype": "text/x-python",
   "name": "python",
   "nbconvert_exporter": "python",
   "pygments_lexer": "ipython3",
   "version": "3.10.1"
  }
 },
 "nbformat": 4,
 "nbformat_minor": 5
}
