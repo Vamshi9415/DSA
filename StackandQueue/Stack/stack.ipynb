{
 "cells": [
  {
   "cell_type": "markdown",
   "id": "10541790",
   "metadata": {},
   "source": [
    "implementing stack"
   ]
  },
  {
   "cell_type": "markdown",
   "id": "04348160",
   "metadata": {},
   "source": [
    "basically self is a reference to the current instance of the class. It how python tracks which object data that we are working with \n",
    "\n",
    "instance is nothing but the specific object created from class"
   ]
  },
  {
   "cell_type": "code",
   "execution_count": 4,
   "id": "9247dd0d",
   "metadata": {},
   "outputs": [
    {
     "name": "stdout",
     "output_type": "stream",
     "text": [
      "Stack: <__main__.Stack object at 0x000001940130B520>\n",
      "Top of stack is before deleting any element: 7\n",
      "Size of stack before deleting any element: 3\n",
      "Is stack empty? False\n",
      "The element deleted is: 7\n",
      "Size of stack after deleting an element: 2\n",
      "Top of stack after deleting an element: 3\n",
      "Stack: <__main__.Stack object at 0x000001940130B520>\n",
      "\n",
      "Testing edge cases:\n",
      "After clear, is empty? True\n",
      "Error on pop from empty stack: stack is empty\n"
     ]
    }
   ],
   "source": [
    "class Stack:\n",
    "    def __init__(self,capacity=1000):\n",
    "        self.top=-1\n",
    "        self.capacity = capacity\n",
    "        self.arr = [None]*(self.capacity)\n",
    "    \n",
    "    def push(self,x:int) -> None:\n",
    "        \n",
    "        if self.is_full():\n",
    "            raise OverflowError(\"Stack is FUll\")\n",
    "        self.top +=1\n",
    "        self.arr[self.top] =x\n",
    "    \n",
    "    def pop(self) ->int:\n",
    "        \n",
    "        if self.is_empty():\n",
    "            raise IndexError(\"stack is empty\")\n",
    "        x= self.arr[self.top]\n",
    "        self.arr[self.top] = None #clearing refernce\n",
    "        self.top -=1\n",
    "        return x\n",
    "    \n",
    "    def peek(self) -> int :\n",
    "        if self.is_empty():\n",
    "            raise IndexError(\"Stack is Empty\")\n",
    "        return self.arr[self.top]\n",
    "    \n",
    "    def is_empty(self) -> bool:\n",
    "        return self.top == -1\n",
    "    \n",
    "    def is_full(self) -> bool:\n",
    "        return self.top == self.capacity - 1\n",
    "    \n",
    "    def get_size(self) -> int :\n",
    "        return self.top + 1\n",
    "    \n",
    "    def clear(self):\n",
    "        self.top = -1\n",
    "        self.arr = [None]*self.capacity\n",
    "\n",
    "if __name__ == \"__main__\":\n",
    "    s = Stack()\n",
    "    \n",
    "    # Push elements\n",
    "    s.push(6)\n",
    "    s.push(3)\n",
    "    s.push(7)\n",
    "    \n",
    "    print(\"Stack:\", s)\n",
    "    print(\"Top of stack is before deleting any element:\", s.peek())\n",
    "    print(\"Size of stack before deleting any element:\", s.get_size())\n",
    "    print(\"Is stack empty?\", s.is_empty())\n",
    "    \n",
    "    # Pop element\n",
    "    print(\"The element deleted is:\", s.pop())\n",
    "    print(\"Size of stack after deleting an element:\", s.get_size())\n",
    "    print(\"Top of stack after deleting an element:\", s.peek())\n",
    "    print(\"Stack:\", s)\n",
    "    \n",
    "    # Test edge cases\n",
    "    print(\"\\nTesting edge cases:\")\n",
    "    s.clear()\n",
    "    print(\"After clear, is empty?\", s.is_empty())\n",
    "    \n",
    "    try:\n",
    "        s.pop()  # Should raise error\n",
    "    except IndexError as e:\n",
    "        print(f\"Error on pop from empty stack: {e}\")\n",
    "    "
   ]
  },
  {
   "cell_type": "markdown",
   "id": "af94b653",
   "metadata": {},
   "source": []
  }
 ],
 "metadata": {
  "kernelspec": {
   "display_name": "Python 3",
   "language": "python",
   "name": "python3"
  },
  "language_info": {
   "codemirror_mode": {
    "name": "ipython",
    "version": 3
   },
   "file_extension": ".py",
   "mimetype": "text/x-python",
   "name": "python",
   "nbconvert_exporter": "python",
   "pygments_lexer": "ipython3",
   "version": "3.10.1"
  }
 },
 "nbformat": 4,
 "nbformat_minor": 5
}
